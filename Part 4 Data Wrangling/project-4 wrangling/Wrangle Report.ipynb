{
 "cells": [
  {
   "cell_type": "markdown",
   "metadata": {},
   "source": [
    "## Introduction"
   ]
  },
  {
   "cell_type": "markdown",
   "metadata": {},
   "source": [
    "As per wikipedia, Data wrangling, sometimes referred to as data munging, is the process of transforming and \n",
    "mapping data from one \"raw\" data form into another format with the intent of making it more appropriate and \n",
    "valuable for a variety of downstream purposes such as analytics.\n",
    "The data wrangling processes are performed in the juptyer notebook and overall processes are well documented\n",
    "with the use of proper comments and markdown text.\n",
    "\n",
    "**Data Set**\n",
    "\n",
    "The data set used are extracted from the twitter user @dogs_rates (WeRateDogs), whose three year period data from 2015 to 2017 were used to wrangle and analyze in the project. They have a comic way of rating dogs with denominator being primarily 10 while the dogs are rated more than denominator so rating can be 11, 12 or higher.\n"
   ]
  },
  {
   "cell_type": "markdown",
   "metadata": {},
   "source": [
    "## Wrangling Steps\n",
    "- Gathering\n",
    "- Assessing\n",
    "- Cleaning"
   ]
  },
  {
   "cell_type": "markdown",
   "metadata": {},
   "source": [
    "### Gathering"
   ]
  },
  {
   "cell_type": "markdown",
   "metadata": {},
   "source": [
    "There are three different raw data sets:\n",
    "   - **Twitter Archive data:** This data is the twitter's archive of @dogs_rate user, named \n",
    "   `twitter-archive-enhanced.csv`\n",
    "   - **Twitter Api data:** This data was extracted using tweepy querying the twitter api. `twitter-json.txt`\n",
    "   - **Image predictions:** This data was obtained manually from udacity.This data set has predicted the tweeted\n",
    "       dog's breed with the help of deep learning's convolution neural network algorithm.`image-predictions.tsv`"
   ]
  },
  {
   "cell_type": "markdown",
   "metadata": {},
   "source": [
    "### Assessing"
   ]
  },
  {
   "cell_type": "markdown",
   "metadata": {},
   "source": [
    "The gathered data are assessed using spreadsheet tool: Excel ,and programmatically using Pandas library. The data has both quality and tidiness issues that were detected, defined and cleaned.\n",
    "The quality and tidiness issues are reported as mentioned below:"
   ]
  },
  {
   "cell_type": "markdown",
   "metadata": {},
   "source": [
    "\n",
    "\n",
    "\n",
    "\n",
    "**Quality Issues**\n",
    "\n",
    "- `twitter_archive_enhanced`\n",
    "\n",
    "    - `timestamp` is a string (i.e object) which should be `datetime` type.\n",
    "    - Unnecessary retweet records.\n",
    "    - Many records of the tweet's columns: doggo, floofer, pupper, puppo , do not contain any value excpet 'None'. and they are string data type. They could be of category data type.\n",
    "    - The `source` column contain redundant HTMl informations.\n",
    "    - The `name` column contain wrong names or literary words/characters like 'a', 'Bo','the',and 'an' .\n",
    "    - The numerator and denominator contains the wrong values when compared with the `text` column.\n",
    "\n",
    "- `image_predictions`\n",
    "\n",
    "    - There are duplicated jpg_urls.\n",
    "    - There is inconsisitency in the predicted string's letter case. Some are lower case while others are not.\n",
    "    - The predicted dog breed is of `object` (i.e string) datatype, category type may be suitable.\n",
    "    - The underscore symbol in place of space in the dog bredd's name\n",
    "\n",
    "- `tweet-json` \n",
    "\n",
    "    - Unwanted columns\n",
    "    - There are 0 non-null data in `contributors` , `coordinates` and `geo` columns whereas only 1 non-null data in    `place` columns."
   ]
  },
  {
   "cell_type": "markdown",
   "metadata": {},
   "source": [
    "**Tidiness Issues**\n",
    "\n",
    "- `twitter_archive_enhanced`\n",
    "    - The dog stages: `doggo`, `floofer`, `pupper`, `puppo` are in different columns.\n",
    "\n",
    "- `twitter_json`\n",
    "    - the `display_text_range` contains a list of numerical data\n",
    "\n",
    "- `image_predictions`\n",
    "    - There are three different predictions breeds and their confidence values in three different columns\n",
    "\n",
    "- `All three`\n",
    "    - Merge all three dataframe into a master dataframe"
   ]
  },
  {
   "cell_type": "markdown",
   "metadata": {},
   "source": [
    "## Cleaning\n",
    "This process involved working massivley with pandas library. At first, all three differnt data sets were cleaned separately, then the necessary columns were taken from each of them to finally merge into a master data set.\n",
    "\n",
    "Further,the cleaned data was saved to a CSV file into the local directory."
   ]
  },
  {
   "cell_type": "markdown",
   "metadata": {},
   "source": [
    "## Visulaization\n",
    "After the data wrangling process, the features of the data were analyzed and visualized."
   ]
  }
 ],
 "metadata": {
  "kernelspec": {
   "display_name": "Python 3",
   "language": "python",
   "name": "python3"
  },
  "language_info": {
   "codemirror_mode": {
    "name": "ipython",
    "version": 3
   },
   "file_extension": ".py",
   "mimetype": "text/x-python",
   "name": "python",
   "nbconvert_exporter": "python",
   "pygments_lexer": "ipython3",
   "version": "3.6.3"
  }
 },
 "nbformat": 4,
 "nbformat_minor": 2
}
