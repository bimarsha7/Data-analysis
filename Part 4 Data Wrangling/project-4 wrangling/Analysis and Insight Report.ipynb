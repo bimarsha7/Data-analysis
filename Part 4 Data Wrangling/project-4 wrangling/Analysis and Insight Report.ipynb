{
 "cells": [
  {
   "cell_type": "markdown",
   "metadata": {},
   "source": [
    "## Introduction\n",
    "\n",
    "The process of analyzing and insight was done on the cleaned version of the twitter data set, whose raw data was extracted from the twitter user @dog_rates. This process required formation of questions and finding that answers through rigorous process of coding and plotting graphs to convey the insights."
   ]
  },
  {
   "cell_type": "markdown",
   "metadata": {},
   "source": [
    "## Visualization\n",
    "\n",
    "### Insight 1 : The most frequent dog breed that was tweeted about\n",
    "\n",
    "The first insight was to know which dog breed was the most frequently tweeted by the @dog_rates user. \n",
    "\n",
    "Their absolute frequency were plotted and a bar graph was obtained as shown in the figure `dog_breed_abs_freq_graph`:"
   ]
  },
  {
   "cell_type": "markdown",
   "metadata": {},
   "source": [
    "![Fig: dog_breed_abs_freq_graph](dog_breed_abs_freq_graph.png)"
   ]
  },
  {
   "cell_type": "markdown",
   "metadata": {},
   "source": [
    "**Conclusion:** For this problem, we only visualized the top 15 most frequent dog breeds and found that Golden retriever was the most tweeted breed type followed by Labrador retriever, Pembroke, Chihuahua and pug, completing the top 5 frequently tweeted dog breeds."
   ]
  },
  {
   "cell_type": "markdown",
   "metadata": {},
   "source": [
    "Again, to see how they fare when plotted based on relative frequency,another barplot was plotted. Surprisigly, the most frequent dog breed is very less compared to total number of tweets, which refers that the tweets contained wide variety of dog breeds. The graph for relatve frequency is plotted in the figure `dog_breed_relative_freq_graph`:"
   ]
  },
  {
   "cell_type": "markdown",
   "metadata": {},
   "source": [
    "![Fig: dog_breed_relative_freq_graph](dog_breed_relative_freq_graph.png)"
   ]
  },
  {
   "cell_type": "markdown",
   "metadata": {},
   "source": [
    "### Insight 2 : Rating over the years\n",
    "\n",
    "The ratings was calculated based on the ratio of its numerator and denominator ratings. \n",
    "\n",
    "For  task, the year was extaracted from the timestamp colummn. Then ratings and years were combined to make a new dataframe and that dataframe was used to perform analysis and plot graph. A pointplot of seaborn library was use d to observe the change of ratings from 2015 to 2017.The graph is shown in the figure `ratings_over_the_year`."
   ]
  },
  {
   "cell_type": "markdown",
   "metadata": {},
   "source": [
    "![Fig: ratings_over_the_year](ratings_over_the_years.png)"
   ]
  },
  {
   "cell_type": "markdown",
   "metadata": {},
   "source": [
    "**Conclusion:** The rating increased from 2015 to 2017 with almost 0.6 difference on their average value."
   ]
  },
  {
   "cell_type": "markdown",
   "metadata": {},
   "source": [
    "### Insight 3: realtion between dogs stages , favourite_count, and retweet_count \n",
    "**Question 1: Which breed and stage name of dogs has the highest ever favorite and retweet count in a single tweet?**"
   ]
  },
  {
   "cell_type": "markdown",
   "metadata": {},
   "source": [
    "**Answer**\n",
    "The analysis was performed and the follwing conclusion was made:\n",
    " - Breed and stage name of dogs with the highest ever favorite count is `Lakeland terrier` and `puppo` respectively.\n",
    "- Breed and stage name of dogs with the highest ever retweet count is `Labrador retriever` and `doggo` repectivley."
   ]
  },
  {
   "cell_type": "markdown",
   "metadata": {},
   "source": [
    "\n",
    "**Question 2: How are favorite count and retweet count related?**"
   ]
  },
  {
   "cell_type": "markdown",
   "metadata": {},
   "source": [
    "The regression plot was plotted to compare the realtionships between favorite_count and retweet_count of each of the tweets and the following graph was obtained as shown in figure `reg_plot_fav_retweet`."
   ]
  },
  {
   "cell_type": "markdown",
   "metadata": {},
   "source": [
    "![Fig: reg_plot_fav_retweet](reg_plot_fav_retweet.png)"
   ]
  },
  {
   "cell_type": "markdown",
   "metadata": {},
   "source": [
    "**Conclusion**\n",
    "- There is positive correlation (i.e. 0.912) between favorite_count and retweet_count showing that any person who like a tweet is very likley to retweet the very tweet."
   ]
  }
 ],
 "metadata": {
  "kernelspec": {
   "display_name": "Python 3",
   "language": "python",
   "name": "python3"
  },
  "language_info": {
   "codemirror_mode": {
    "name": "ipython",
    "version": 3
   },
   "file_extension": ".py",
   "mimetype": "text/x-python",
   "name": "python",
   "nbconvert_exporter": "python",
   "pygments_lexer": "ipython3",
   "version": "3.6.3"
  }
 },
 "nbformat": 4,
 "nbformat_minor": 2
}
